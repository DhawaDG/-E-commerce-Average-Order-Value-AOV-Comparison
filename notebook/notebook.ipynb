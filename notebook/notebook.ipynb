{
 "cells": [
  {
   "cell_type": "markdown",
   "id": "38fe621e-e634-4854-98a2-4dda775c145a",
   "metadata": {},
   "source": [
    "### 1. Project Overview\n",
    "\n",
    "\n",
    "**Objective**: Compare Average Order Value (AOV) between standard checkout (control) and optimized checkout (treatment)\n",
    "\n",
    "**Key Metrics**:\n",
    "- Primary: Average Order Value (continuous)\n",
    "- Secondary: Conversion Rate (optional)\n",
    "\n",
    "**Hypotheses**:\n",
    "- H_0: mu_control = mu_treatment (no difference in AOV)\n",
    "- H_1: mu_control < = mu_treatment (significant difference exists)\n",
    "\n",
    "**Test Design**:\n",
    "- Random assignment (50/50 split)\n",
    "- Minimum sample: 1000 per group\n",
    "- Duration: 14 days"
   ]
  },
  {
   "cell_type": "markdown",
   "id": "8ba6fe78-9867-4267-9954-fc2cd8661c4d",
   "metadata": {},
   "source": [
    "### 2. Data Preparation"
   ]
  },
  {
   "cell_type": "code",
   "execution_count": 3,
   "id": "b4efec11-b7ed-4812-8cb0-08b5b980f531",
   "metadata": {},
   "outputs": [
    {
     "name": "stdout",
     "output_type": "stream",
     "text": [
      "Dataset generated and saved as 'checkout_ab_test_data.csv'\n",
      "   user_id    group  order_value\n",
      "0        1  control   100.927711\n",
      "1        2  control    86.958185\n",
      "2        3  control   104.249148\n",
      "3        4  control   123.506657\n",
      "4        5  control    84.848626\n",
      "\n",
      "Group distribution: \n",
      " group\n",
      "control      1000\n",
      "treatment    1000\n",
      "Name: count, dtype: int64\n"
     ]
    }
   ],
   "source": [
    "import pandas as pd\n",
    "import numpy as np\n",
    "\n",
    "#set random seed for reproducibility\n",
    "np.random.seed(42)\n",
    "\n",
    "#generate synthetic data\n",
    "num_samples = 2000 # 1000 per group\n",
    "\n",
    "#control group (standard checkout)\n",
    "control_aov =np.random.normal(loc=90,scale=22,size=num_samples//2)\n",
    "control_aov=np.clip(control_aov,10,200) #realistic bounds for order values\n",
    "\n",
    "#treatment group(optimized checkout) - slightly higher mean\n",
    "treatment_aov =np.random.normal(loc=90,scale=22,size=num_samples//2)\n",
    "treatment_aov= np.clip(treatment_aov,10,200)\n",
    "\n",
    "#create Dataframe\n",
    "data = {\n",
    "    'user_id':range(1,num_samples+1),\n",
    "    'group':['control']*(num_samples//2)+['treatment']*(num_samples//2), #Creates a list with 1000 'control' strings + 1000 'treatment' strings\n",
    "    'order_value':np.concatenate([control_aov,treatment_aov]) #Merges the two arrays First controlled 1000 values and treatment Next 1000 values\n",
    "}\n",
    "\n",
    "df = pd.DataFrame(data)\n",
    "\n",
    "#add same missing values and zero-dollar orders to make it realistic\n",
    "df.loc[df.sample(frac=0.02).index,'order_value'] = np.nan #2% missing\n",
    "df.loc[df.sample(frac=0.01).index,'order_value']= 0 #1% zero-dollar orders\n",
    "\n",
    "#save to  csv\n",
    "df.to_csv('checkout_ab_test_data.csv',index=False)\n",
    "\n",
    "print(\"Dataset generated and saved as 'checkout_ab_test_data.csv'\")\n",
    "print(df.head())\n",
    "print(f\"\\nGroup distribution: \\n {df['group'].value_counts()}\")"
   ]
  },
  {
   "cell_type": "markdown",
   "id": "229b5738-272a-4136-bcd7-30450316e32e",
   "metadata": {},
   "source": [
    "### 3. Exploratory Data Analysis(EDA)"
   ]
  },
  {
   "cell_type": "code",
   "execution_count": 5,
   "id": "8b531b55-083d-4ce9-b741-6f361dc30ec7",
   "metadata": {},
   "outputs": [
    {
     "name": "stdout",
     "output_type": "stream",
     "text": [
      "Missing values per column:\n",
      "user_id         0\n",
      "group           0\n",
      "order_value    40\n",
      "dtype: int64\n"
     ]
    }
   ],
   "source": [
    "#total missing value\n",
    "missing_per_column=df.isna().sum()\n",
    "print('Missing values per column:')\n",
    "print(missing_per_column)\n"
   ]
  },
  {
   "cell_type": "code",
   "execution_count": 8,
   "id": "fd5cd1a6-ed72-4c35-b726-60710ce9a2fc",
   "metadata": {},
   "outputs": [
    {
     "name": "stdout",
     "output_type": "stream",
     "text": [
      "user_id        0.0\n",
      "group          0.0\n",
      "order_value    2.0\n",
      "dtype: float64\n"
     ]
    }
   ],
   "source": [
    "#check percentage missing\n",
    "print(df.isna().mean().round(4)*100)"
   ]
  },
  {
   "cell_type": "code",
   "execution_count": 10,
   "id": "8cc6ac4d-6d17-4d2c-b087-b182f2c7efbf",
   "metadata": {},
   "outputs": [
    {
     "name": "stdout",
     "output_type": "stream",
     "text": [
      "Original: 2000 rows  | Cleaned: 1960 rows\n"
     ]
    }
   ],
   "source": [
    "#drop rows missing only in 'order_value'\n",
    "df_clean=df.dropna(subset=['order_value'])\n",
    "\n",
    "print(f\"Original: {len(df)} rows  | Cleaned: {len(df_clean)} rows\")"
   ]
  },
  {
   "cell_type": "code",
   "execution_count": 12,
   "id": "ebb6f76b-a981-4a19-a8ad-519a1bbe057b",
   "metadata": {},
   "outputs": [
    {
     "name": "stdout",
     "output_type": "stream",
     "text": [
      "           count       mean        std  min        25%        50%         75%  \\\n",
      "group                                                                           \n",
      "control    982.0  89.122119  23.496614  0.0  75.022512  90.170244  103.923675   \n",
      "treatment  978.0  90.650873  23.371924  0.0  76.247486  90.792956  105.873536   \n",
      "\n",
      "                  max  \n",
      "group                  \n",
      "control    174.760093  \n",
      "treatment  160.248366  \n"
     ]
    }
   ],
   "source": [
    "# Summary statistics\n",
    "print(df_clean.groupby('group')['order_value'].describe())"
   ]
  },
  {
   "cell_type": "markdown",
   "id": "3dec10c2-7457-4890-a7ad-0cb0440f0564",
   "metadata": {},
   "source": [
    "### 4 Statistical Analysis"
   ]
  },
  {
   "cell_type": "markdown",
   "id": "bc5f54e4-7da3-4225-9fd4-220ae71e262f",
   "metadata": {},
   "source": [
    "> **Hypothesis Setup**\n",
    "\n",
    "-  h_0: control sample variance = treatment sample variance\n",
    "-  h_1: control sample variance != treatment sample variance"
   ]
  },
  {
   "cell_type": "code",
   "execution_count": 16,
   "id": "ffc66485-21ec-4e58-93f0-da5066b35397",
   "metadata": {},
   "outputs": [
    {
     "name": "stdout",
     "output_type": "stream",
     "text": [
      "Levene's test statistic: 0.7914\n",
      "p-value: 0.3738\n",
      "Fail to reject null hypothesis - variances are equal\n"
     ]
    }
   ],
   "source": [
    "#levene's test for variance equality\n",
    "from scipy.stats import levene\n",
    "\n",
    "control = df_clean[df_clean['group'] == 'control']['order_value']\n",
    "control_clean= control >0\n",
    "\n",
    "treatment=df_clean[df_clean['group'] == 'treatment']['order_value']\n",
    "treatment_clean= treatment>0\n",
    "\n",
    "\n",
    "#perform levene's test\n",
    "levene_stat, levene_p = levene(control_clean,treatment_clean)\n",
    "\n",
    "print(f\"Levene's test statistic: {levene_stat:.4f}\")\n",
    "print(f\"p-value: {levene_p:.4f}\")\n",
    "\n",
    "#Interpretation\n",
    "alpha = 0.05\n",
    "if levene_p > alpha:\n",
    "    print(\"Fail to reject null hypothesis - variances are equal\")\n",
    "else:\n",
    "    print(\"Reject null hypothesis - variances are unequal\")"
   ]
  },
  {
   "cell_type": "code",
   "execution_count": 18,
   "id": "37697e87-2245-4a94-8d09-eee40ba9480a",
   "metadata": {},
   "outputs": [
    {
     "name": "stdout",
     "output_type": "stream",
     "text": [
      "Control AOV: $89.12\n",
      "Treatment AOV: $90.65\n",
      "Absolute difference: $1.53\n",
      "Relative difference: 1.7%\n",
      "\n",
      "Welch's t-test p-value: 0.1868\n",
      "Cohen's d effect size: 0.040\n"
     ]
    }
   ],
   "source": [
    "from scipy import stats\n",
    "\n",
    "# Welch's t-test\n",
    "t_stat, p_value = stats.ttest_ind(treatment_clean, control_clean, equal_var=False,alternative=\"greater\")\n",
    "\n",
    "# Effect size (Cohen's d)\n",
    "def cohens_d(treatment, control):\n",
    "    diff = treatment.mean() - control.mean()\n",
    "    pooled_std = np.sqrt((treatment.std()**2 + control.std()**2)/2)\n",
    "    return diff / pooled_std\n",
    "\n",
    "d = cohens_d(treatment_clean, control_clean)\n",
    "\n",
    "# Results\n",
    "print(f\"Control AOV: ${control.mean():.2f}\")\n",
    "print(f\"Treatment AOV: ${treatment.mean():.2f}\")\n",
    "print(f\"Absolute difference: ${treatment.mean()-control.mean():.2f}\")\n",
    "print(f\"Relative difference: {(treatment.mean()-control.mean())/control.mean()*100:.1f}%\")\n",
    "print(f\"\\nWelch's t-test p-value: {p_value:.4f}\")\n",
    "print(f\"Cohen's d effect size: {d:.3f}\")"
   ]
  },
  {
   "cell_type": "markdown",
   "id": "86294973-61be-4278-ae81-48d3889ede91",
   "metadata": {},
   "source": [
    "#### Interpretations\n",
    "\n",
    "- **p-value (0.1868) > 0.05**\n",
    "  > - The observed difference is not statistically significant\n",
    "  > - We cannot reject the null hypothesis (that both checkouts perform equally)\n",
    "  > - There's a 18.68% probability of seeing at least a $1.53 difference by random chance alone, even if the optimization had no real effect.\n",
    "\n",
    "- **Cohen's d (0.040)**\n",
    "  - 0.2 = Small effect\n",
    "  - 0.5 = Medium effect\n",
    "  - 0.8 = Large effect\n",
    "    > 0.040 cohen's d indicates a negligible effect size\n",
    "\n",
    "- **Business Impact**\n",
    "  - While the treatment shows a nominal 1.7% lift, this tiny effect:\n",
    "    > - Could disappear in future tests (regression to mean)\n",
    "    > - May not justify implementation costs\n",
    "    > - Is smaller than typical daily/weekly fluctuations\n",
    "\n",
    "- **Conclusion**\n",
    "> There is no difference  between **Controlled:Continuous Standard checkout and Treatment: Optimized checkout flow** of E-commerce Average Order Value.\n",
    "  "
   ]
  }
 ],
 "metadata": {
  "kernelspec": {
   "display_name": "Python [conda env:base] *",
   "language": "python",
   "name": "conda-base-py"
  },
  "language_info": {
   "codemirror_mode": {
    "name": "ipython",
    "version": 3
   },
   "file_extension": ".py",
   "mimetype": "text/x-python",
   "name": "python",
   "nbconvert_exporter": "python",
   "pygments_lexer": "ipython3",
   "version": "3.12.7"
  }
 },
 "nbformat": 4,
 "nbformat_minor": 5
}
